{
 "cells": [
  {
   "cell_type": "raw",
   "metadata": {},
   "source": [
    "1.The ids for the 20 rows(formed by linear combination of a subset of \"Exponential rows\") can be expressed as:\n",
    "    for i in range(81,100):"
   ]
  },
  {
   "cell_type": "markdown",
   "metadata": {},
   "source": [
    "\\begin{equation*}\n",
    "row[i] = \\left( \\sum_{k=1}^n theta_k . id_k \\right)\n",
    "\\end{equation*}"
   ]
  },
  {
   "cell_type": "raw",
   "metadata": {},
   "source": [
    "where \"theta\" is a constant and \"id\" corresponds to row-ids of a subset of \"Exponential rows\"."
   ]
  },
  {
   "cell_type": "raw",
   "metadata": {},
   "source": [
    "2.The equation above implies a dot product betweet two vectors \"theta\" and \"id\""
   ]
  },
  {
   "cell_type": "raw",
   "metadata": {},
   "source": [
    "3. \"id\" can be represented in the vectorised format as:"
   ]
  },
  {
   "cell_type": "markdown",
   "metadata": {},
   "source": [
    "\\begin{equation*}\n",
    "\\mathbf{id}  =  \\begin{vmatrix}\n",
    "\\mathbf{i} \\\\\n",
    "id1 \\\\\n",
    "id2 \\\\\n",
    "id3 \\\\\n",
    "id4 \\\\\n",
    "... \\\\\n",
    "id80 \n",
    "\\end{vmatrix}\n",
    "\\end{equation*}"
   ]
  },
  {
   "cell_type": "raw",
   "metadata": {},
   "source": [
    " and similarly \"theta\" can be vectorised."
   ]
  },
  {
   "cell_type": "raw",
   "metadata": {},
   "source": [
    "4.The row[i] thus represents the equaiton of a straight line, "
   ]
  },
  {
   "cell_type": "raw",
   "metadata": {},
   "source": [
    "                                        y = mx + c; m = theta, x = id"
   ]
  },
  {
   "cell_type": "raw",
   "metadata": {},
   "source": [
    "5.On plotting \"id\" as y-axis and row[i] as x-axis,the row-ids with respect to Exponential rows may be extr fapolated from the graph. "
   ]
  }
 ],
 "metadata": {
  "kernelspec": {
   "display_name": "Python 3",
   "language": "python",
   "name": "python3"
  },
  "language_info": {
   "codemirror_mode": {
    "name": "ipython",
    "version": 3
   },
   "file_extension": ".py",
   "mimetype": "text/x-python",
   "name": "python",
   "nbconvert_exporter": "python",
   "pygments_lexer": "ipython3",
   "version": "3.6.3"
  }
 },
 "nbformat": 4,
 "nbformat_minor": 2
}
